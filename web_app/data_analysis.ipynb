{
  "cells": [
    {
      "cell_type": "markdown",
      "metadata": {},
      "source": [
        "# 📊 Momentum Calculator Data Analysis\n",
        "\n",
        "This notebook helps you analyze the stock data from your Momentum Calculator database.\n",
        "\n",
        "## What you can do:\n",
        "- Explore all 2545 stocks in the database\n",
        "- Analyze industry/sector distributions\n",
        "- View price data and momentum scores\n",
        "- Export data in various formats\n",
        "- Create visualizations\n"
      ]
    },
    {
      "cell_type": "code",
      "execution_count": null,
      "metadata": {},
      "outputs": [],
      "source": [
        "# Import required libraries\n",
        "import sys\n",
        "import os\n",
        "import pandas as pd\n",
        "import sqlite3\n",
        "import plotly.express as px\n",
        "import plotly.graph_objects as go\n",
        "from datetime import datetime\n",
        "\n",
        "# Add paths\n",
        "sys.path.append('src')\n",
        "sys.path.append('config')\n",
        "\n",
        "print(\"📊 Momentum Calculator Data Analysis\")\n",
        "print(\"=\" * 50)\n"
      ]
    }
  ],
  "metadata": {
    "language_info": {
      "name": "python"
    }
  },
  "nbformat": 4,
  "nbformat_minor": 2
}
